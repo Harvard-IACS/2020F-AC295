{
 "cells": [
  {
   "cell_type": "markdown",
   "metadata": {},
   "source": [
    "\n",
    "<h1 style=\"padding-top: 25px;padding-bottom: 25px;text-align: left; padding-left: 10px; background-color: #DDDDDD; \n",
    "    color: black;\"> <img style=\"float: left; padding-right: 10px; width: 45px\" src=\"https://raw.githubusercontent.com/Harvard-IACS/2018-CS109A/master/content/styles/iacs.png\"> AC295: Advanced Practical Data Science </h1>\n",
    "\n",
    "## Lecture 6:  Transfer Learning 2\n",
    "\n",
    "**Harvard University**<br/>\n",
    "**Spring 2020**<br/>\n",
    "**Instructors**: Pavlos Protopapas <br>\n",
    "**TF**: Michael Emanuel, Andrea Porelli and Giulia Zerbini  <br>\n",
    "**Author**: Andrea Porelli and Pavlos Protopapas\n",
    "\n",
    "<hr style='height:2px'>"
   ]
  },
  {
   "cell_type": "markdown",
   "metadata": {},
   "source": [
    "# Table of Contents\n",
    "* [Lecture 6: Transfer Learning 2](#Lecture-6:-Transfer-Learning-2)\n",
    "    * [Part 1: Deep Learning Based Image Recognition](#Part-1:-Deep-Learning-Based-Image-Recognition)\n",
    "        * [1.1 Image Recognition and Classificaiton](#1.1-Image-Recognition-and-Classificaiton)\n",
    "        * [1.2 Introduction to Image Classification using Deep Learning](#1.2-Introduction-to-Image-Classification-using-Deep-Learning)\n",
    "        * [1.3 Benchmark Datasets](#1.3-Benchmark-Datasets)\n",
    "        * [1.4 State of the Art (SOTA) Deep Image Classification Models](#1.4-State-of-the-Art-(SOTA)-Deep-Image-Classification-Models)\n",
    "    * [Part 2: Use Cases](#Part-2:-Use-Cases)\n",
    "        * [2.1 Image Classification and Transfer Learning](#2.1-Image-Classification-and-Transfer-Learning)\n",
    "        * [2.2 Style Transfer](#2.1-Style-Transfer)"
   ]
  },
  {
   "cell_type": "markdown",
   "metadata": {},
   "source": [
    "## Part 1: Deep Learning Based Image Recognition\n",
    "\n",
    "### 1.1 Image Recognition and Classification\n",
    "\n",
    "- Active interdisciplinary field under the umbrella of computer vision.\n",
    "- It is the task of identifying an object within an image or video/sequence.\n",
    "- Traditionally, this field has leveraged advancements in mathematical and computer-aided modeling, and the design of objects.\n",
    "- Several hand-annotated datasets have been developed over the years to test and evaluate image recognition systems.\n",
    "- Traditional tecniques were dominating the scene and iteratively improving upon the task until recentely.\n",
    "- In 2012, deep learning arrived at the ImageNet competition and opened the floodgates for rapid improvements and advancements in computer vision and deep learning techniques."
   ]
  },
  {
   "cell_type": "markdown",
   "metadata": {},
   "source": [
    "### 1.2 Introduction to Image Classification using Deep Learning\n",
    "\n",
    "- Convolutional Neural Networks (CNNs) are at the heart of this deep learning revolution for improving the task of image classification.\n",
    "- CNNs are specialized neural networks to handle image data.\n",
    "- CNNs help us infer shift and space invariant features through their shared weight architectures, and are basically a variant of feed forward networks.\n",
    "- Below is a quick overview of CNNs' components.\n",
    "<img src=\"https://upload.wikimedia.org/wikipedia/commons/6/63/Typical_cnn.png\" width=\"600\"/>\n",
    "source: WIKIPEDIA"
   ]
  },
  {
   "cell_type": "markdown",
   "metadata": {},
   "source": [
    "### 1.3 Benchmark Datasets\n",
    "\n",
    "- Image classification is a supervised task.\n",
    "- The number of parameters to train a CNN might be huge, thus required a lot of labeled images and huge datasets are required.\n",
    "- Luckily research groups across the globe have been working toward collecting, hand annotating, and crowdsourcing different datasets.\n",
    "- These datasets are utilized to benchmark performance of different algorithms.\n",
    "- Below is a short list of widely accepted benchmarking datasets in the field of image classification:\n",
    "    - **ImageNet:** 14M images, 20K categories, Princeton University, 2009\n",
    "    - **80 Millions Tiny Images datasets:** 80M low resolution images colled from the internet, 75K non-abstract nouns, MIT. It is the basis for other famous datasets including CIFAR\n",
    "    - **CIFAR-10:** 60K low resolution images, 10 non-overlapping classes, Canadian Institute for Advanced Research. Most wide used dataset in ML\n",
    "    - **CIFAR-100:** 60K low resolution images evenly spread across 100 classes, Canadian Institute for Advanced Research\n",
    "    - **Common Object in Context (COCO):** 200K images evenly spread across different classes. It is a large scale visual database for object identification, segmentation, and captioning\n",
    "    - **Open Images:** 9M images with labels\n",
    "    - **Caltech 101 and Caltech 256:** 9K and 30K images respectively, spanning across 101 and 256 classes\n",
    "    - **Stanford Dog dataset: 20K colord images, 200 classes.** It is specific to different dog breads\n",
    "    - **MNIST:** 60K hand-labeled digits (zero to nine). One of the most famous datasets for ML"
   ]
  },
  {
   "cell_type": "markdown",
   "metadata": {},
   "source": [
    "### 1.4 State of the Art (SOTA) Deep Image Classification Models\n",
    "\n",
    "- Deep learning has received much attention and hype over the years, it is not a surprised that a lot of conferences, journals and competitions worldwide centered around that.\n",
    "- Image classification architectures have experienced iterative improvements on a regular basis.\n",
    "- Let's look at the best SOTA models:\n",
    "    - AlexNet\n",
    "    - VGG-16\n",
    "    - Inception (GoogleNet)\n",
    "    - ResNet\n",
    "    - MobileNet\n",
    "    - DenseNet\n",
    "    \n",
    "see lecture 5 for more information about SOTAs"
   ]
  },
  {
   "cell_type": "markdown",
   "metadata": {},
   "source": [
    "## Part 2: Use Cases\n",
    "\n",
    "Let's use Transfer Learning, to build some applications. It is convenient to run the applications on Google Colab. Check out the links below. \n",
    "\n",
    "### 2.1 Image Classification and Transfer Learning\n",
    "\n",
    "- You know what image classification is all about. Now we will use pretrained model(s) to understand how we can leverage transfer learning to improve upon our models.\n",
    "- In particular we are going to focus on fine-grained image classification which refers to the task of recognizing different sublcasses within a higher-level class.\n",
    "- We will focus around the Stanford Dogs Dataset which contains the images of different dog breeds. Hence the task is to categorize different dog breeds.\n",
    "- We are going to train the model on a **subset** of the entire dataset.\n",
    "- The keys areas of focus in this use case will be:\n",
    "    - Data preparation\n",
    "    - Train dog breeds classifier using Transfer Learning\n",
    "- Find more on the colab notebook [Lecture 6: Transfer Learning across Tasks: Image Classification and Transfer Learning](https://colab.research.google.com/drive/1vY5OSsebe5pRKicq9Db1ZdQ2pIHCfbsw)"
   ]
  },
  {
   "cell_type": "markdown",
   "metadata": {},
   "source": [
    "### 2.2 Style Transfer\n",
    " \n",
    "- Painting present a complex interplay of content and style. Photograph are a combination of perspectives and lights. Let's combine them for spectacular and surprising results.\n",
    "- Our goal is to modify the original image (a bird's eye view of the city of Venice) adding the style, colors and stroke paterns from a piece of art (in our case a mosaic designed by Gaudi')\n",
    "- The outcome will be the result of a Transfer Learning algorithm presented in the paper [A Neural Algorithm of Artistic Style\n",
    "](https://arxiv.org/pdf/1508.06576.pdf)\n",
    "- The key areas of focus in this use case will be:\n",
    "    - Understanding neural style transfer\n",
    "    - Image preprocessing\n",
    "    - Building loss function\n",
    "    - Constructing a custom optimizer\n",
    "    - Style transfer in action\n",
    "- Find more on the colab notebook [Lecture 6:  Transfer Learning across Tasks: Style Transfer Model](https://colab.research.google.com/drive/19awyAD09rbdknV_jkfS4yMRFKW0223Ll)"
   ]
  },
  {
   "cell_type": "code",
   "execution_count": null,
   "metadata": {},
   "outputs": [],
   "source": []
  }
 ],
 "metadata": {
  "kernelspec": {
   "display_name": "Python 3",
   "language": "python",
   "name": "python3"
  },
  "language_info": {
   "codemirror_mode": {
    "name": "ipython",
    "version": 3
   },
   "file_extension": ".py",
   "mimetype": "text/x-python",
   "name": "python",
   "nbconvert_exporter": "python",
   "pygments_lexer": "ipython3",
   "version": "3.6.9"
  }
 },
 "nbformat": 4,
 "nbformat_minor": 2
}
