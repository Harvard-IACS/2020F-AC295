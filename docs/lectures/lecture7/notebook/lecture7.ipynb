{
 "cells": [
  {
   "cell_type": "markdown",
   "metadata": {},
   "source": [
    "\n",
    "<h1 style=\"padding-top: 25px;padding-bottom: 25px;text-align: left; padding-left: 10px; background-color: #DDDDDD; \n",
    "    color: black;\"> <img style=\"float: left; padding-right: 10px; width: 45px\" src=\"https://raw.githubusercontent.com/Harvard-IACS/2018-CS109A/master/content/styles/iacs.png\"> AC295: Advanced Practical Data Science </h1>\n",
    "\n",
    "## Lecture 7: Distillation and Compression\n",
    "\n",
    "**Harvard University**<br/>\n",
    "**Spring 2020**<br/>\n",
    "**Instructors**: Pavlos Protopapas <br>\n",
    "**TF**: Michael Emanuel, Andrea Porelli and Giulia Zerbini  <br>\n",
    "**Author**: Andrea Porelli and Pavlos Protopapas\n",
    "\n",
    "<hr style='height:2px'>"
   ]
  },
  {
   "cell_type": "markdown",
   "metadata": {},
   "source": [
    "# Table of Contents\n",
    "* [Lecture 7: Distillation and Compression](#Lecture-7:-Distillation-and-Compression)\n",
    "    * [Part 1: Knowledge distillation: Teacher student learning](#Part-1:-Knowledge-distillation:-Teacher-student-learning)\n",
    "        * [1.1 Matching logits is a special case of distillation](#1.1-Matching-logits-is-a-special-case-of-distillation)\n",
    "        * [1.2 Temperature](#1.2-Temperature)\n",
    "        * [1.3 Examples from the paper](#1.3-Examples-from-the-paper)\n",
    "    * [Part 2: Use Cases](#Part-2:-Use-Cases)\n",
    "        * [2.1 Transfer learning through Network Distillation](#2.1-Transfer-learning-through-Network-Distillation)\n",
    "        * [2.2 Another use case?](#2.2-Another-use-case?)"
   ]
  },
  {
   "cell_type": "markdown",
   "metadata": {},
   "source": [
    "## Part 1: Knowledge distillation: Teacher student learning\n",
    "\n",
    "Geoffrey Hinton's words: \n",
    "- Many insects have two very different forms: \n",
    "  - a larval form: optimised to extract energy and nutrients from environment \n",
    "  - an adult form: optimized for traveling and reproduction\n",
    "  \n",
    "- ML typically uses the same model for training stage and the deployment stage! Despite  very different requirements:\n",
    "  - Training: should extract structure, should not be real time, thus can use a huge amount of computation. \n",
    "  - Deployment: large number of users, more stringent requirements on latency and computational resources.\n",
    "\n",
    "**Question:** is it possible to distill and compress the *knowledge* of the large and complex training model (the teacher) into a small and simple deployment model (the student)?\n",
    "\n",
    "**Brings us to the question what is knowledge (in a NN)?**\n",
    "- The weights of network?\n",
    "- The mapping from input to output?\n",
    "\n",
    "**Goal:** train a student model to generalize in the same way as the large model.\n",
    "\n",
    "### 1.1 Matching logits is a special case of distillation\n",
    "\n",
    "\n",
    "- Normal training objective is to maximize the average log probability of the correct class.\n",
    "- Yet Hinton:\n",
    "  - \"*Relative probabilities of incorrect answers tell us a lot about how the teacher model tends to generalize.*\"\n",
    "  - Ex.: \"*An image of a BMW, may only have a very small chance of being mistaken for a garbage truck, but that mistake is still many times more probable than mistaking it for a carrot.*\"\n",
    "  <img src=\"https://i.imgur.com/zvTR1r7.png\" alt=\"https://towardsdatascience.com/knowledge-distillation-simplified-dd4973dbc764\" width=60%/>\n",
    "\n",
    "  - **The predictions of the teacher model contain a lot of usefull information regarding the generalization!**\n",
    "  - **Thus our student networks tries to match the teacher network predictions.**\n",
    "  <img src=\"https://i.imgur.com/l80RVDT.jpg\" alt=\"https://towardsdatascience.com/knowledge-distillation-simplified-dd4973dbc764\" width=80%/>\n",
    "\n",
    "**The final  loss-function of the student network ( $\\mathscr{L}_\\text{student }$ ) is a combination of:**\n",
    "1. Standard cross entropy with correct labels ( $\\mathscr{L}_\\text{correct labels }$  )\n",
    "  - ex. match label: 100% BWM\n",
    "2. Cross entropy with the soft targets from the teacher network predictions ( $\\mathscr{L}_\\text{soft teacher predictions }$  )\n",
    "  - ex. match teacher prediction: 99.5% BWM, 0.4% garbage truk, ... , 0.000001% carrot\n",
    "\n",
    "How these two parts of the loss function should be weighted is determined by the hyperparameter $\\lambda$:\n",
    "  $$\\mathscr{L}_\\text{student} = \\mathscr{L}_\\text{correct labels} + \\lambda \\mathscr{L}_\\text{soft teacher predictions}$$"
   ]
  },
  {
   "cell_type": "markdown",
   "metadata": {},
   "source": [
    "## **1.2 Temperature**\n",
    "\n",
    "Much information resides in the ratios of very small probabilities in the predictions: \n",
    "ex.: one version of a 2 may be given a probability of $10^{-6}$ of being a 3 and $10^{-9}$ of being a 7 , whereas for another version it may be the other way around.\n",
    "\n",
    "- Since most probabilities are very close to zero we expect very little influence on the cross-entropy cost function.\n",
    "- **How to fix this?** \n",
    "   - Raise the **\"temperature\" of the final softmax** until the teacher model produces a soft set of targets ($z_i$ are logits, T is Temperature):\n",
    "   $$q_i = \\dfrac{\\exp(z_i/T)}{\\sum_j \\exp(z_j/T)}$$\n",
    "   - Using a higher value for $T$ produces a softer probability distribution over classes. Illustrating:"
   ]
  },
  {
   "cell_type": "code",
   "execution_count": 16,
   "metadata": {
    "collapsed": false
   },
   "outputs": [
    {
     "data": {
      "text/plain": [
       "Text(0.5,1,'Logits  ')"
      ]
     },
     "execution_count": 16,
     "metadata": {},
     "output_type": "execute_result"
    },
    {
     "data": {
      "image/png": "[encoded data removed]",
      "text/plain": [
       "<Figure size 1440x288 with 4 Axes>"
      ]
     },
     "metadata": {
      "needs_background": "light"
     },
     "output_type": "display_data"
    }
   ],
   "source": [
    "import numpy as np \n",
    "import matplotlib.pyplot as plt \n",
    "\n",
    "z_i = np.array([0.5, 8  , 1.5, 3, 6   ,\n",
    "                11 , 2.5, 0.01  , 5, 0.2 ])\n",
    "\n",
    "# Tested probabilities\n",
    "Temperatures = [1, 4, 20]\n",
    "\n",
    "plt.figure(figsize=(20, 4))\n",
    "\n",
    "\n",
    "for i, T in enumerate(Temperatures):\n",
    "    plt.subplot(1, 4, i+1)\n",
    "\n",
    "    # Temperature adjusted soft probabilities:\n",
    "    q_i = np.exp(z_i/T)/np.sum(np.exp(z_i/T))\n",
    "\n",
    "    # Plotting the barchart\n",
    "    plt.bar(range(0,10), q_i)\n",
    "    plt.title('Temperature = '+ str(T), size=15)\n",
    "    plt.xticks(range(10) , range(10), size=10)\n",
    "    plt.xlabel('Classes', size=12)\n",
    "    plt.ylabel('Class Probabilities', size=12)\n",
    "    plt.axhline(y=1, linestyle = '--', color = 'r')\n",
    "    \n",
    "    \n",
    "plt.subplot(1, 4, 4)\n",
    "plt.bar(range(0,10), z_i/30)\n",
    "plt.axhline(y=1, linestyle = '--', color = 'r')\n",
    "plt.ylim(0,1.05)\n",
    "\n",
    "plt.title('Logits  ')"
   ]
  },
  {
   "cell_type": "markdown",
   "metadata": {},
   "source": [
    "## **1.3 Examples from the paper**\n",
    "\n",
    "- Experiment 1: simple MNIST \n",
    "   - Large Teacher network - 2 layers of **1200 neurons** hidden units: **67**/10000 test errors.\n",
    "   - Original student network - 2 layers of **800 neurons** hidden units: **146**/10000 test errors.\n",
    "   - Distilled student network - 2 layers of **800 neurons** hidden units: **74**/10000 test error.\n",
    "<br/><br/>\n",
    "- Experiment 2: Distillation can even teach a student network about classes it has never seen: \n",
    "  - During training all the \"3\" digits are hidden for the student network. \n",
    "  - So \"3\" is a mythical digit the student network never has seen!\n",
    "  - Still using distillation it manages to  correctly classify 877 out of 1010 \"3\"s in the test set! \n",
    "  - After adjusting the bias term 997/1010 3's are correctly classified!"
   ]
  },
  {
   "cell_type": "markdown",
   "metadata": {},
   "source": [
    "## Part 2: Use Cases\n",
    "\n",
    "Let's use Transfer Learning, to build some applications. It is convenient to run the applications on Google Colab. Check out the links below. \n",
    "\n",
    "### 2.1Transfer learning through Network Distillation\n",
    "- In distillation a small simple (*student*) network tries to extract or distill knowledge from a large and complex (*teacher*) network. \n",
    "- This is also known as student-teacher networks or compression, as we try to compress a large model into a small model.\n",
    "- Goal:\n",
    "    - Understand Knowledge Distillation\n",
    "    - Force a small segmentation network (based on Mobilenet) to learn from a large network (deeplab_v3).\n",
    "\n",
    "- Find more on the colab notebook [Lecture 7: Use Case Distillation and Compression](https://colab.research.google.com/drive/1l8qVX9-CsV9oae02Kb9NXDmWUjNd79G6)"
   ]
  },
  {
   "cell_type": "code",
   "execution_count": null,
   "metadata": {
    "collapsed": true
   },
   "outputs": [],
   "source": []
  }
 ],
 "metadata": {
  "kernelspec": {
   "display_name": "Python 3",
   "language": "python",
   "name": "python3"
  },
  "language_info": {
   "codemirror_mode": {
    "name": "ipython",
    "version": 3
   },
   "file_extension": ".py",
   "mimetype": "text/x-python",
   "name": "python",
   "nbconvert_exporter": "python",
   "pygments_lexer": "ipython3",
   "version": "3.6.9"
  }
 },
 "nbformat": 4,
 "nbformat_minor": 2
}
